{
 "cells": [
  {
   "cell_type": "markdown",
   "metadata": {},
   "source": [
    "# Πειραματισμοί"
   ]
  },
  {
   "cell_type": "code",
   "execution_count": 1,
   "metadata": {},
   "outputs": [
    {
     "data": {
      "text/plain": [
       "dict_keys(['verts', 'vertex_colors', 'face_indices', 'depth', 'cam_eye', 'cam_up', 'cam_lookat', 'ka', 'kd', 'ks', 'n', 'light_positions', 'light_intensities', 'Ia', 'M', 'N', 'W', 'H', 'bg_color'])"
      ]
     },
     "execution_count": 1,
     "metadata": {},
     "output_type": "execute_result"
    }
   ],
   "source": [
    "from numpy import *\n",
    "from numpy.linalg import *\n",
    "from filling import *\n",
    "from transforms_projections import *\n",
    "\n",
    "data = load('h3.npy', allow_pickle=True).tolist()\n",
    "for (key, value) in data.items():\n",
    "    exec(key + ' = value')\n",
    "data.keys()"
   ]
  },
  {
   "cell_type": "markdown",
   "metadata": {},
   "source": [
    "# Φωτισμός και Υλικό Επιφάνειας"
   ]
  },
  {
   "cell_type": "markdown",
   "metadata": {},
   "source": [
    "## A1. Ambient Light"
   ]
  },
  {
   "cell_type": "code",
   "execution_count": 8,
   "metadata": {},
   "outputs": [],
   "source": [
    "def ambient_light(ka, Ia):\n",
    "\n",
    "    I = ka * Ia\n",
    "\n",
    "    return I"
   ]
  },
  {
   "cell_type": "markdown",
   "metadata": {},
   "source": [
    "## A2. Diffuse Light"
   ]
  },
  {
   "cell_type": "code",
   "execution_count": 143,
   "metadata": {},
   "outputs": [],
   "source": [
    "def diffuse_light(P, N, color, kd, light_positions, light_intensities):\n",
    "\n",
    "    I = zeros((3,))\n",
    "\n",
    "    L = (light_positions - P) / norm(light_positions - P, axis=0)\n",
    "    \n",
    "    for i in range(light_positions.shape[1]):\n",
    "        if N.T @ L[:, i] > 0:\n",
    "            I += kd * light_intensities[:, i] * (N.T @ L[:, i])\n",
    "    \n",
    "    return I.reshape(-1, 1) * color\n",
    "    "
   ]
  },
  {
   "cell_type": "code",
   "execution_count": 144,
   "metadata": {},
   "outputs": [],
   "source": [
    "def specular_light(P, N, color, cam_pos, ks, n, light_positions, light_intensities):\n",
    "\n",
    "    I = zeros((3,))\n",
    "\n",
    "    L = (light_positions - P) / norm(light_positions - P, axis=0)\n",
    "    R = (2 * N.T @ L) * N - L\n",
    "    V = (cam_pos - P) / norm(cam_pos - P, axis=0)\n",
    "    \n",
    "    for i in range(light_positions.shape[1]):\n",
    "        if V.T @ R[:, i] > 0 and N.T @ L[:, i] > 0:\n",
    "            I += ks * light_intensities[:, i] * (V.T @ R[:, i]) ** n\n",
    "    \n",
    "    return I.reshape(-1, 1) * color"
   ]
  },
  {
   "cell_type": "markdown",
   "metadata": {},
   "source": [
    "# B. Shading"
   ]
  },
  {
   "cell_type": "markdown",
   "metadata": {},
   "source": [
    "## Β.1 Υπολογισμός κανονικών διανυσμάτων επιφάνειας"
   ]
  },
  {
   "cell_type": "code",
   "execution_count": 145,
   "metadata": {},
   "outputs": [],
   "source": [
    "def calculate_normals(vertices, face_indices):\n",
    "\n",
    "    normals = empty(shape=vertices.shape)\n",
    "\n",
    "    surface_normals = cross(vertices[:, face_indices[1]] - vertices[:, face_indices[0]],\n",
    "                            vertices[:, face_indices[2]] - vertices[:, face_indices[0]],\n",
    "                            axis=0)\n",
    "\n",
    "    surface_normals /= norm(surface_normals, axis=0)\n",
    "\n",
    "    for i in range(vertices.shape[1]):\n",
    "        S_Nk = sum(surface_normals[:, where(face_indices == i)[1]], axis=1).reshape(-1, 1)\n",
    "        S_Nk /= norm(S_Nk, axis=0)\n",
    "        normals[:, i] = S_Nk.reshape(-1)\n",
    "    \n",
    "    return normals"
   ]
  },
  {
   "cell_type": "markdown",
   "metadata": {},
   "source": [
    "## Β2. Συνάρτηση φωτογράφισης"
   ]
  },
  {
   "cell_type": "code",
   "execution_count": null,
   "metadata": {},
   "outputs": [],
   "source": [
    "def render_object(shader, focal, eye, lookat, up, bg_color, M, N, H, W, verts, vert_colors, face_indices, ka, kd, ks, n, light_position, light_intensities, Ia):\n",
    "    \n",
    "    # 1. Calculate surface normals of all vertices of object\n",
    "    normals = calculate_normals(verts, face_indices)\n",
    "    \n",
    "    # 2a. Change coordinate system based on where the camera is\n",
    "    verts2d, depth = project_cam_lookat(f=focal,\n",
    "                                        c_org=eye,\n",
    "                                        c_lookat=lookat,\n",
    "                                        c_up=up,\n",
    "                                        verts3d=verts)\n",
    "\n",
    "    # 2b. Project them in camera lens\n",
    "    verts_rast = rasterize(verts2d=verts2d,\n",
    "                           img_h=M,\n",
    "                           img_w=N,\n",
    "                           cam_h=H,\n",
    "                           cam_w=W)\n",
    "    \n",
    "    I = render(verts2d=verts_rast,\n",
    "               faces=face_indices,\n",
    "               vcolors=vert_colors,\n",
    "               depth=depth,\n",
    "               shade_t=shader,\n",
    "               img_h=M,\n",
    "               img_w=N)\n",
    "\n",
    "    pass"
   ]
  },
  {
   "cell_type": "code",
   "execution_count": 1,
   "metadata": {},
   "outputs": [
    {
     "ename": "NameError",
     "evalue": "name 'i_i' is not defined",
     "output_type": "error",
     "traceback": [
      "\u001b[1;31m---------------------------------------------------------------------------\u001b[0m",
      "\u001b[1;31mNameError\u001b[0m                                 Traceback (most recent call last)",
      "\u001b[1;32m~\\AppData\\Local\\Temp\\ipykernel_12056\\1257323924.py\u001b[0m in \u001b[0;36m<module>\u001b[1;34m\u001b[0m\n\u001b[0;32m      6\u001b[0m \u001b[1;33m\u001b[0m\u001b[0m\n\u001b[0;32m      7\u001b[0m \u001b[0mi\u001b[0m \u001b[1;33m=\u001b[0m \u001b[1;34m'a'\u001b[0m\u001b[1;33m\u001b[0m\u001b[1;33m\u001b[0m\u001b[0m\n\u001b[1;32m----> 8\u001b[1;33m \u001b[0mexec\u001b[0m\u001b[1;33m(\u001b[0m\u001b[1;34m'i_i()'\u001b[0m\u001b[1;33m)\u001b[0m\u001b[1;33m\u001b[0m\u001b[1;33m\u001b[0m\u001b[0m\n\u001b[0m\u001b[0;32m      9\u001b[0m \u001b[1;33m\u001b[0m\u001b[0m\n\u001b[0;32m     10\u001b[0m \u001b[0mi\u001b[0m \u001b[1;33m=\u001b[0m \u001b[1;34m'b'\u001b[0m\u001b[1;33m\u001b[0m\u001b[1;33m\u001b[0m\u001b[0m\n",
      "\u001b[1;32m<string>\u001b[0m in \u001b[0;36m<module>\u001b[1;34m\u001b[0m\n",
      "\u001b[1;31mNameError\u001b[0m: name 'i_i' is not defined"
     ]
    }
   ],
   "source": [
    "def a_a():\n",
    "    print('nikos')\n",
    "\n",
    "def b_b():\n",
    "    print('stylianos')\n",
    "\n",
    "i = 'a'\n",
    "exec('i_i()')\n",
    "\n",
    "i = 'b'\n",
    "exec('i_i()')"
   ]
  },
  {
   "cell_type": "markdown",
   "metadata": {},
   "source": [
    "## B3. Gouraud Shading"
   ]
  },
  {
   "cell_type": "code",
   "execution_count": null,
   "metadata": {},
   "outputs": [],
   "source": [
    "def shade_gouraud(verts_p, verts_n, verts_c, bcoords, cam_pos, ka, kd, ks, n, light_positions, light_intensities, Ia, X):\n",
    "    \n",
    "    # Define somewhere to store the vertices' colors after the illumination model\n",
    "    new_colors = empty(shape=verts_c.shape)\n",
    "\n",
    "    # Apply illumination model to each vertex of the triangle\n",
    "    for i in range(verts_c.shape[1]):\n",
    "\n",
    "        vertex_color = verts_c[:, i] + \\\n",
    "            ambient_light(ka, Ia) + \\\n",
    "                diffuse_light(P=bcoords,\n",
    "                              N=verts_n[:, i],\n",
    "                              color=verts_c[:, i],\n",
    "                              kd=kd,\n",
    "                              light_positions=light_positions,\n",
    "                              light_intensities=light_intensities) + \\\n",
    "                    specular_light(P=bcoords,\n",
    "                                   N=verts_n[:, i],\n",
    "                                   color=verts_c[:, i],\n",
    "                                   cam_pos=cam_pos,\n",
    "                                   ks=ks,\n",
    "                                   n=n,\n",
    "                                   light_positions=light_positions,\n",
    "                                   light_intensities=light_intensities)\n",
    "        \n",
    "        new_colors[:, i] = vertex_color\n",
    "        \n",
    "        Y = shade_triangle(X, verts_p, new_colors, 'gouraud')\n",
    "        # With verts_p, new_colors, \n",
    "    pass"
   ]
  },
  {
   "cell_type": "markdown",
   "metadata": {},
   "source": [
    "## B4. Phong Shading"
   ]
  },
  {
   "cell_type": "code",
   "execution_count": null,
   "metadata": {},
   "outputs": [],
   "source": [
    "def shade_phong(verts_p, verts_n, verts_c, bcoords, cam_pos, ka, kd, ks, n, light_positions, light_intensities, Ia, X):\n",
    "    pass"
   ]
  },
  {
   "cell_type": "markdown",
   "metadata": {},
   "source": []
  }
 ],
 "metadata": {
  "kernelspec": {
   "display_name": "Python 3.7.13 ('graphics')",
   "language": "python",
   "name": "python3"
  },
  "language_info": {
   "codemirror_mode": {
    "name": "ipython",
    "version": 3
   },
   "file_extension": ".py",
   "mimetype": "text/x-python",
   "name": "python",
   "nbconvert_exporter": "python",
   "pygments_lexer": "ipython3",
   "version": "3.7.13"
  },
  "orig_nbformat": 4,
  "vscode": {
   "interpreter": {
    "hash": "285d56574a4cb1101505c49ae0d12f0a545336a7955aa9686b64df5b29ca02bb"
   }
  }
 },
 "nbformat": 4,
 "nbformat_minor": 2
}
