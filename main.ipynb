{
 "cells": [
  {
   "cell_type": "markdown",
   "metadata": {},
   "source": [
    "# Πειραματισμοί"
   ]
  },
  {
   "cell_type": "code",
   "execution_count": 1,
   "metadata": {},
   "outputs": [
    {
     "data": {
      "text/plain": [
       "dict_keys(['verts', 'vertex_colors', 'face_indices', 'depth', 'cam_eye', 'cam_up', 'cam_lookat', 'ka', 'kd', 'ks', 'n', 'light_positions', 'light_intensities', 'Ia', 'M', 'N', 'W', 'H', 'bg_color'])"
      ]
     },
     "execution_count": 1,
     "metadata": {},
     "output_type": "execute_result"
    }
   ],
   "source": [
    "from numpy import *\n",
    "from numpy.linalg import *\n",
    "from filling import edge, create_edge, interpolate_color\n",
    "from transforms_projections import *\n",
    "import matplotlib.pyplot as plt\n",
    "data = load('h3.npy', allow_pickle=True).tolist()\n",
    "for (key, value) in data.items():\n",
    "    exec(key + ' = value')\n",
    "data.keys()"
   ]
  },
  {
   "cell_type": "markdown",
   "metadata": {},
   "source": [
    "# Φωτισμός και Υλικό Επιφάνειας"
   ]
  },
  {
   "cell_type": "markdown",
   "metadata": {},
   "source": [
    "## A1. Ambient Light"
   ]
  },
  {
   "cell_type": "code",
   "execution_count": 8,
   "metadata": {},
   "outputs": [],
   "source": [
    "def ambient_light(ka, Ia):\n",
    "\n",
    "    I = ka * Ia\n",
    "\n",
    "    return I"
   ]
  },
  {
   "cell_type": "markdown",
   "metadata": {},
   "source": [
    "## A2. Diffuse Light"
   ]
  },
  {
   "cell_type": "code",
   "execution_count": 2,
   "metadata": {},
   "outputs": [],
   "source": [
    "def diffuse_light(P, N, color, kd, light_positions, light_intensities):\n",
    "\n",
    "    I = zeros((3,))\n",
    "\n",
    "    L = (light_positions - P) / norm(light_positions - P, axis=0)\n",
    "    \n",
    "    for i in range(light_positions.shape[1]):\n",
    "        if N.T @ L[:, i] > 0:\n",
    "            I += kd * light_intensities[:, i] * (N.T @ L[:, i])\n",
    "    \n",
    "    return I.reshape(-1, 1) * color\n",
    "    "
   ]
  },
  {
   "cell_type": "code",
   "execution_count": 6,
   "metadata": {},
   "outputs": [],
   "source": [
    "def specular_light(P, N, color, cam_pos, ks, n, light_positions, light_intensities):\n",
    "\n",
    "    I = zeros((3,))\n",
    "\n",
    "    L = (light_positions - P) / norm(light_positions - P, axis=0)\n",
    "    R = (2 * N.T @ L) * N - L\n",
    "    V = (cam_pos - P) / norm(cam_pos - P, axis=0)\n",
    "    \n",
    "    for i in range(light_positions.shape[1]):\n",
    "        if V.T @ R[:, i] > 0 and N.T @ L[:, i] > 0:\n",
    "            I += ks * light_intensities[:, i] * (V.T @ R[:, i]) ** n\n",
    "    \n",
    "    return I.reshape(-1, 1) * color"
   ]
  },
  {
   "cell_type": "markdown",
   "metadata": {},
   "source": [
    "# B. Shading"
   ]
  },
  {
   "cell_type": "markdown",
   "metadata": {},
   "source": [
    "## Β.1 Υπολογισμός κανονικών διανυσμάτων επιφάνειας"
   ]
  },
  {
   "cell_type": "code",
   "execution_count": 130,
   "metadata": {},
   "outputs": [],
   "source": [
    "def calculate_normals(vertices, face_indices):\n",
    "\n",
    "    normals = empty(shape=vertices.shape)\n",
    "\n",
    "    surface_normals = cross(vertices[:, face_indices[1]] - vertices[:, face_indices[0]],\n",
    "                            vertices[:, face_indices[2]] - vertices[:, face_indices[0]],\n",
    "                            axis=0)\n",
    "\n",
    "    surface_normals /= norm(surface_normals, axis=0)\n",
    "\n",
    "    for i in range(vertices.shape[1]):\n",
    "        S_Nk = sum(surface_normals[:, where(face_indices == i)[1]], axis=1).reshape(-1, 1)\n",
    "        S_Nk /= norm(S_Nk, axis=0)\n",
    "        normals[:, i] = S_Nk.reshape(-1)\n",
    "    \n",
    "    return normals"
   ]
  },
  {
   "cell_type": "markdown",
   "metadata": {},
   "source": [
    "## Β2. Συνάρτηση φωτογράφισης"
   ]
  },
  {
   "cell_type": "code",
   "execution_count": null,
   "metadata": {},
   "outputs": [],
   "source": [
    "verts2d, depth = project_cam_lookat(f=1)"
   ]
  },
  {
   "cell_type": "code",
   "execution_count": 127,
   "metadata": {},
   "outputs": [],
   "source": [
    "def render_object(shader, focal, eye, lookat, up, bg_color, M, N, H, W, verts, vert_colors, face_indices, ka, kd, ks, n, light_positions, light_intensities, Ia):\n",
    "\n",
    "    \n",
    "    # 1. Calculate surface normals of all vertices of object\n",
    "    normals = calculate_normals(verts, face_indices)\n",
    "    \n",
    "    # 2a. Change coordinate system based on where the camera is\n",
    "    verts2d, depth = project_cam_lookat(f=focal,\n",
    "                                        c_org=eye,\n",
    "                                        c_lookat=lookat,\n",
    "                                        c_up=up,\n",
    "                                        verts3d=verts)\n",
    "\n",
    "    # 2b. Project them in camera lens\n",
    "    verts_rast = rasterize(verts2d=verts2d,\n",
    "                           img_h=M,\n",
    "                           img_w=N,\n",
    "                           cam_h=H,\n",
    "                           cam_w=W)\n",
    "    \n",
    "    vert_colors = flip(vert_colors, axis=1)\n",
    "    vert_colors *= 255\n",
    "\n",
    "    verts_rast = flip(verts_rast, axis=1)\n",
    "\n",
    "    depth_of_triangles = mean(depth.reshape(-1)[face_indices.T], axis=1)\n",
    "    priority_of_triangles = flip(argsort(depth_of_triangles))\n",
    "\n",
    "    X = 255 *  ones((M, N, 3))\n",
    "    \n",
    "    for face in face_indices.T[priority_of_triangles]:\n",
    "\n",
    "        if (all(verts_rast[face][0, :]) < W) and (all(verts_rast[face][1, :]) < H):\n",
    "            X = shade_gouraud(verts_p=verts_rast[face],\n",
    "                              verts_n=normals[face],\n",
    "                              verts_c=vert_colors[face],\n",
    "                              bcoords=sum(verts_rast[face], axis=0).reshape(-1, 1) / 3,\n",
    "                              cam_pos=eye,\n",
    "                              ka=ka,\n",
    "                              kd=kd,\n",
    "                              ks=ks,\n",
    "                              n=n,\n",
    "                              light_positions=light_positions,\n",
    "                              light_intensities=light_intensities,\n",
    "                              Ia=Ia,\n",
    "                              X=X)\n",
    "    \n",
    "    plt.imshow(X)"
   ]
  },
  {
   "cell_type": "markdown",
   "metadata": {},
   "source": [
    "## B3. Gouraud Shading"
   ]
  },
  {
   "cell_type": "code",
   "execution_count": 85,
   "metadata": {},
   "outputs": [],
   "source": [
    "def shade_gouraud(verts_p, verts_n, verts_c, bcoords, cam_pos, ka, kd, ks, n, light_positions, light_intensities, Ia, X):\n",
    "\n",
    "    for i in range(verts_c.shape[1]):\n",
    "\n",
    "        verts_c[:, i] += ambient_light(ka, Ia) \\\n",
    "            + diffuse_light(P=bcoords,\n",
    "                            N=verts_n[:, i],\n",
    "                            color=verts_c[:, i],\n",
    "                            kd=kd,\n",
    "                            light_positions=light_positions,\n",
    "                            light_intensities=light_intensities) \\\n",
    "                                + specular_light(P=bcoords,\n",
    "                                                N=verts_n[:, i],\n",
    "                                                color=verts_c[:, i],\n",
    "                                                cam_pos=cam_pos,\n",
    "                                                ks=ks,\n",
    "                                                n=n,\n",
    "                                                light_positions=light_positions,\n",
    "                                                light_intensities=light_intensities)\n",
    "        \n",
    "    verts_pcn = hstack((verts_p.T, verts_c.T, verts_n.T))\n",
    "\n",
    "    tuples_of_verts = array([delete(verts_pcn, i, axis=0) for i in range(3)])\n",
    "\n",
    "    triangle_edges = fromiter((create_edge(tuples_of_verts[i]) for i in range(3)), dtype=edge)\n",
    "\n",
    "    lowest_scanline = min(triangle_edges['y_min'])\n",
    "    highest_scanline = max(triangle_edges['y_max'])\n",
    "\n",
    "    active_edges = triangle_edges[(triangle_edges['y_min'] == lowest_scanline)]\n",
    "\n",
    "    for y in range(lowest_scanline, highest_scanline):\n",
    "\n",
    "        lower_edges = active_edges[active_edges['y_max'] == y]\n",
    "        if lower_edges.size > 0:\n",
    "            active_edges = delete(active_edges, active_edges == lower_edges)\n",
    "\n",
    "        active_edges = sort(active_edges, order='intersect')\n",
    "\n",
    "        leftmost_intersect = ceil(active_edges[0]['intersect'])\n",
    "        rightmost_intersect = ceil(active_edges[1]['intersect'])\n",
    "\n",
    "        Cl, Cr = interpolate_color(active_edges['y_max'],\n",
    "                                   active_edges['y_min'],\n",
    "                                   y,\n",
    "                                   active_edges['RGB_max'],\n",
    "                                   active_edges['RGB_min'])\n",
    "\n",
    "        for x in range(int(leftmost_intersect), int(rightmost_intersect)):\n",
    "\n",
    "            X[x, y] = interpolate_color(rightmost_intersect,\n",
    "                                        leftmost_intersect,\n",
    "                                        x,\n",
    "                                        Cr,\n",
    "                                        Cl)\n",
    "\n",
    "        active_edges['intersect'] += 1 / active_edges['slope']\n",
    "\n",
    "        upper_edges = triangle_edges[triangle_edges['y_min'] == y + 1]\n",
    "        if upper_edges.size > 0:\n",
    "            active_edges = append(active_edges, upper_edges)\n",
    "\n",
    "    return X"
   ]
  },
  {
   "cell_type": "markdown",
   "metadata": {},
   "source": [
    "## B4. Phong Shading"
   ]
  },
  {
   "cell_type": "code",
   "execution_count": 3,
   "metadata": {},
   "outputs": [],
   "source": [
    "def shade_phong(verts_p, verts_n, verts_c, bcoords, cam_pos, ka, kd, ks, n, light_positions, light_intensities, Ia, X):\n",
    "        \n",
    "    verts_pcn = hstack((verts_p.T, verts_c.T, verts_n.T))\n",
    "\n",
    "    tuples_of_verts = array([delete(verts_pcn, i, axis=0) for i in range(3)])\n",
    "\n",
    "    triangle_edges = fromiter((create_edge(tuples_of_verts[i]) for i in range(3)), dtype=edge)\n",
    "\n",
    "    lowest_scanline = min(triangle_edges['y_min'])\n",
    "    highest_scanline = max(triangle_edges['y_max'])\n",
    "\n",
    "    active_edges = triangle_edges[(triangle_edges['y_min'] == lowest_scanline)]\n",
    "\n",
    "    for y in range(lowest_scanline, highest_scanline):\n",
    "\n",
    "        lower_edges = active_edges[active_edges['y_max'] == y]\n",
    "        if lower_edges.size > 0:\n",
    "            active_edges = delete(active_edges, active_edges == lower_edges)\n",
    "\n",
    "        active_edges = sort(active_edges, order='intersect')\n",
    "\n",
    "        leftmost_intersect = ceil(active_edges[0]['intersect'])\n",
    "        rightmost_intersect = ceil(active_edges[1]['intersect'])\n",
    "\n",
    "        Cl, Cr = interpolate_color(active_edges['y_max'],\n",
    "                                   active_edges['y_min'],\n",
    "                                   y,\n",
    "                                   active_edges['RGB_max'],\n",
    "                                   active_edges['RGB_min'])\n",
    "\n",
    "        Nl, Nr = interpolate_color(active_edges['y_max'],\n",
    "                                   active_edges['y_min'],\n",
    "                                   y,\n",
    "                                   active_edges['N_max'],\n",
    "                                   active_edges['N_min'])\n",
    "\n",
    "\n",
    "        for x in range(int(leftmost_intersect), int(rightmost_intersect)):\n",
    "\n",
    "            color = interpolate_color(rightmost_intersect,\n",
    "                                      leftmost_intersect,\n",
    "                                      x,\n",
    "                                      Cr,\n",
    "                                      Cl)\n",
    "            \n",
    "            normal = interpolate_color(rightmost_intersect,\n",
    "                                      leftmost_intersect,\n",
    "                                      x,\n",
    "                                      Nr,\n",
    "                                      Nl)\n",
    "\n",
    "            color += ambient_light(ka, Ia) \\\n",
    "                + diffuse_light(P=bcoords,\n",
    "                                N=normal,\n",
    "                                color=color,\n",
    "                                kd=kd,\n",
    "                                light_positions=light_positions,\n",
    "                                light_intensities=light_intensities) \\\n",
    "                                    + specular_light(P=bcoords,\n",
    "                                                     N=normal,\n",
    "                                                     color=color,\n",
    "                                                     cam_pos=cam_pos,\n",
    "                                                     ks=ks,\n",
    "                                                     n=n,\n",
    "                                                     light_positions=light_positions,\n",
    "                                                     light_intensities=light_intensities)\n",
    "            \n",
    "        active_edges['intersect'] += 1 / active_edges['slope']\n",
    "\n",
    "        upper_edges = triangle_edges[triangle_edges['y_min'] == y + 1]\n",
    "        if upper_edges.size > 0:\n",
    "            active_edges = append(active_edges, upper_edges)\n",
    "\n",
    "    return X"
   ]
  },
  {
   "cell_type": "code",
   "execution_count": null,
   "metadata": {},
   "outputs": [],
   "source": []
  }
 ],
 "metadata": {
  "kernelspec": {
   "display_name": "Python 3.7.13 ('graphics')",
   "language": "python",
   "name": "python3"
  },
  "language_info": {
   "codemirror_mode": {
    "name": "ipython",
    "version": 3
   },
   "file_extension": ".py",
   "mimetype": "text/x-python",
   "name": "python",
   "nbconvert_exporter": "python",
   "pygments_lexer": "ipython3",
   "version": "3.7.13"
  },
  "orig_nbformat": 4,
  "vscode": {
   "interpreter": {
    "hash": "285d56574a4cb1101505c49ae0d12f0a545336a7955aa9686b64df5b29ca02bb"
   }
  }
 },
 "nbformat": 4,
 "nbformat_minor": 2
}
