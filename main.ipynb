{
 "cells": [
  {
   "cell_type": "markdown",
   "metadata": {},
   "source": [
    "# Πειραματισμοί"
   ]
  },
  {
   "cell_type": "code",
   "execution_count": 492,
   "metadata": {},
   "outputs": [
    {
     "name": "stdout",
     "output_type": "stream",
     "text": [
      "[array([[    0.],\n",
      "       [10000.],\n",
      "       [    0.]])] [array([[255.],\n",
      "       [255.],\n",
      "       [255.]])]\n"
     ]
    },
    {
     "data": {
      "text/plain": [
       "dict_keys(['verts', 'vertex_colors', 'face_indices', 'depth', 'cam_eye', 'cam_up', 'cam_lookat', 'ka', 'kd', 'ks', 'n', 'light_positions', 'light_intensities', 'Ia', 'M', 'N', 'W', 'H', 'bg_color'])"
      ]
     },
     "execution_count": 492,
     "metadata": {},
     "output_type": "execute_result"
    }
   ],
   "source": [
    "from numpy import *\n",
    "from numpy.linalg import *\n",
    "from cv2 import imwrite\n",
    "from filling import *\n",
    "from transforms_projections import *\n",
    "data = load('h3.npy', allow_pickle=True).tolist()\n",
    "for (key, value) in data.items():\n",
    "    exec(key + ' = value')\n",
    "light_positions[0] = light_positions[0].reshape(3, -1)\n",
    "light_intensities[0] = 255 * light_intensities[0].reshape(3, -1)\n",
    "print(light_positions, light_intensities)\n",
    "data.keys()"
   ]
  },
  {
   "cell_type": "markdown",
   "metadata": {},
   "source": [
    "# Φωτισμός και Υλικό Επιφάνειας"
   ]
  },
  {
   "cell_type": "markdown",
   "metadata": {},
   "source": [
    "## A1. Ambient Light"
   ]
  },
  {
   "cell_type": "code",
   "execution_count": 486,
   "metadata": {},
   "outputs": [],
   "source": [
    "def ambient_light(ka, Ia):\n",
    "    return ka * Ia"
   ]
  },
  {
   "cell_type": "markdown",
   "metadata": {},
   "source": [
    "## A2. Diffuse Light"
   ]
  },
  {
   "cell_type": "code",
   "execution_count": 487,
   "metadata": {},
   "outputs": [],
   "source": [
    "def diffuse_light(P, N, color, kd, light_positions, light_intensities):\n",
    "\n",
    "    I = zeros(shape=(3, 1))\n",
    "\n",
    "    for (source, intensity) in zip(light_positions, light_intensities):\n",
    "        L = (source - P) / norm(source - P)\n",
    "        if N.T @ L > 0:\n",
    "            I += kd * intensity * (N.T @ L)\n",
    "    \n",
    "    return I\n",
    "    "
   ]
  },
  {
   "cell_type": "markdown",
   "metadata": {},
   "source": [
    "## A3. Specular Light"
   ]
  },
  {
   "cell_type": "code",
   "execution_count": 488,
   "metadata": {},
   "outputs": [],
   "source": [
    "def specular_light(P, N, color, cam_pos, ks, n, light_positions, light_intensities):\n",
    "\n",
    "    I = zeros(shape=(3, 1))\n",
    "    \n",
    "    for (source, intensity) in zip(light_positions, light_intensities):\n",
    "\n",
    "        L = (source - P) / norm(source - P)\n",
    "        R = (2 * N.T @ L) * N - L\n",
    "        V = (cam_pos - P) / norm(cam_pos - P)\n",
    "\n",
    "        if V.T @ R > 0 and N.T @ L > 0:\n",
    "            I += ks * intensity * ((V.T @ R) ** n)\n",
    "    \n",
    "    return I"
   ]
  },
  {
   "cell_type": "markdown",
   "metadata": {},
   "source": [
    "# B. Shading"
   ]
  },
  {
   "cell_type": "markdown",
   "metadata": {},
   "source": [
    "## Β.1 Υπολογισμός κανονικών διανυσμάτων επιφάνειας"
   ]
  },
  {
   "cell_type": "code",
   "execution_count": 489,
   "metadata": {},
   "outputs": [],
   "source": [
    "def calculate_normals(vertices, face_indices):\n",
    "\n",
    "    normals = empty(shape=vertices.shape)\n",
    "\n",
    "    surface_normals = cross(vertices[:, face_indices[1]] - vertices[:, face_indices[0]],\n",
    "                            vertices[:, face_indices[2]] - vertices[:, face_indices[0]],\n",
    "                            axis=0)\n",
    "\n",
    "    surface_normals /= norm(surface_normals, axis=0)\n",
    "\n",
    "    for i in range(vertices.shape[1]):\n",
    "        S_Nk = sum(surface_normals[:, where(face_indices == i)[1]], axis=1).reshape(3, 1)\n",
    "        S_Nk /= norm(S_Nk)\n",
    "        normals[:, i] = S_Nk.reshape(-1)\n",
    "    \n",
    "    return normals"
   ]
  },
  {
   "cell_type": "markdown",
   "metadata": {},
   "source": [
    "## Β2. Συνάρτηση φωτογράφισης"
   ]
  },
  {
   "cell_type": "code",
   "execution_count": 518,
   "metadata": {},
   "outputs": [
    {
     "data": {
      "text/plain": [
       "True"
      ]
     },
     "execution_count": 518,
     "metadata": {},
     "output_type": "execute_result"
    }
   ],
   "source": [
    "gouraud = render_object(shader='gouraud',\n",
    "                        focal=70, eye=cam_eye.reshape(-1, 1), lookat=cam_lookat.reshape(-1, 1), up=cam_up.reshape(-1, 1), bg_color=bg_color.reshape(-1, 1),\n",
    "                        M=M, N=N, H=H, W=W,\n",
    "                        verts=verts.T, vert_colors=vertex_colors.T, face_indices=face_indices.T,\n",
    "                        ka=ka, kd=kd, ks=ks, n=n, light_positions=light_positions, light_intensities=light_intensities, Ia=Ia.reshape(-1, 1))\n",
    "\n",
    "imwrite(f'./gouraud.png', gouraud)\n",
    "\n",
    "phong = render_object(shader='phong',\n",
    "                      focal=70, eye=cam_eye.reshape(-1, 1), lookat=cam_lookat.reshape(-1, 1), up=cam_up.reshape(-1, 1), bg_color=bg_color.reshape(-1, 1),\n",
    "                      M=M, N=N, H=H, W=W,\n",
    "                      verts=verts.T, vert_colors=vertex_colors.T, face_indices=face_indices.T,\n",
    "                      ka=ka, kd=kd, ks=ks, n=n, light_positions=light_positions, light_intensities=light_intensities, Ia=Ia.reshape(-1, 1))\n",
    "\n",
    "imwrite(f'./phong.png', phong)"
   ]
  },
  {
   "cell_type": "code",
   "execution_count": 517,
   "metadata": {},
   "outputs": [],
   "source": [
    "def render_object(shader, focal, eye, lookat, up, bg_color, M, N, H, W, verts, vert_colors, face_indices, ka, kd, ks, n, light_positions, light_intensities, Ia):\n",
    "\n",
    "    \n",
    "    # 1. Calculate surface normals of all vertices of object\n",
    "    normals = calculate_normals(vertices=verts,\n",
    "                                face_indices=face_indices)\n",
    "\n",
    "    # 2a. Change coordinate system based on where the camera is\n",
    "    verts2d, depth = project_cam_lookat(f=focal,\n",
    "                                        c_org=eye,\n",
    "                                        c_lookat=lookat,\n",
    "                                        c_up=up,\n",
    "                                        verts3d=verts)\n",
    "\n",
    "    # 2b. Project them in camera lens\n",
    "    verts_rast = rasterize(verts2d=verts2d,\n",
    "                           img_h=N,\n",
    "                           img_w=M,\n",
    "                           cam_h=H,\n",
    "                           cam_w=W)\n",
    "    \n",
    "    # Convert BGR to RGB and scale\n",
    "    vert_colors = flip(vert_colors, axis=0)\n",
    "    \n",
    "    # Convert (y, x) to (x, y)\n",
    "    verts_rast = flip(verts_rast, axis=0)\n",
    "\n",
    "    # Reshape depth to be compatible with mean\n",
    "    depth = depth.reshape(-1)\n",
    "\n",
    "    depth_of_triangles = mean(depth[face_indices], axis=0)\n",
    "    priority_of_triangles = flip(argsort(depth_of_triangles))\n",
    "\n",
    "    X = 255 * ones((M, N, 3)) * bg_color.reshape(-1)\n",
    "\n",
    "    for triangle in priority_of_triangles:\n",
    "        \n",
    "        if (all(verts_rast[:, face_indices[:, triangle]][0, :]) < W) and (all(verts_rast[:, face_indices[:, triangle]][1, :]) < H):\n",
    "            if shader == 'gouraud':\n",
    "                X = shade_gouraud(verts_p=verts_rast[:, face_indices[:, triangle]],\n",
    "                                  verts_n=normals[:, face_indices[:, triangle]],\n",
    "                                  verts_c=vert_colors[:, face_indices[:, triangle]],\n",
    "                                  bcoords=mean(verts_rast[:, face_indices[:, triangle]], axis=0).reshape(-1, 1),\n",
    "                                  cam_pos=eye,\n",
    "                                  ka=ka,\n",
    "                                  kd=kd,\n",
    "                                  ks=ks,\n",
    "                                  n=n,\n",
    "                                  light_positions=light_positions,\n",
    "                                  light_intensities=light_intensities,\n",
    "                                  Ia=Ia,\n",
    "                                  X=X)\n",
    "            elif shader == 'phong':\n",
    "                X = shade_phong(verts_p=verts_rast[:, face_indices[:, triangle]],\n",
    "                                verts_n=normals[:, face_indices[:, triangle]],\n",
    "                                verts_c=vert_colors[:, face_indices[:, triangle]],\n",
    "                                bcoords=mean(verts_rast[:, face_indices[:, triangle]], axis=0).reshape(-1, 1),\n",
    "                                cam_pos=eye,\n",
    "                                ka=ka,\n",
    "                                kd=kd,\n",
    "                                ks=ks,\n",
    "                                n=n,\n",
    "                                light_positions=light_positions,\n",
    "                                light_intensities=light_intensities,\n",
    "                                Ia=Ia,\n",
    "                                X=X)\n",
    "\n",
    "    return X"
   ]
  },
  {
   "cell_type": "markdown",
   "metadata": {},
   "source": [
    "## B3. Gouraud Shading"
   ]
  },
  {
   "cell_type": "code",
   "execution_count": 502,
   "metadata": {},
   "outputs": [],
   "source": [
    "def shade_gouraud(verts_p, verts_n, verts_c, bcoords, cam_pos, ka, kd, ks, n, light_positions, light_intensities, Ia, X):\n",
    "\n",
    "    for i in range(3):\n",
    "\n",
    "        I_amb = ambient_light(ka, Ia)\n",
    "\n",
    "        I_diff = diffuse_light(P=bcoords,\n",
    "                               N=verts_n[:, i].reshape(3, 1),\n",
    "                               color=verts_c[:, i].reshape(3, 1),\n",
    "                               kd=kd,\n",
    "                               light_positions=light_positions,\n",
    "                               light_intensities=light_intensities)\n",
    "\n",
    "        I_spec = specular_light(P=bcoords,\n",
    "                                N=verts_n[:, i].reshape(3, 1),\n",
    "                                color=verts_c[:, i].reshape(3, 1),\n",
    "                                cam_pos=cam_pos.reshape(3, 1),\n",
    "                                ks=ks,\n",
    "                                n=n,\n",
    "                                light_positions=light_positions,\n",
    "                                light_intensities=light_intensities)\n",
    "        \n",
    "        verts_c[:, i] += (I_amb + I_diff + I_spec).reshape(-1)\n",
    "    \n",
    "    verts_pcn = hstack((verts_p.T, verts_c.T, verts_n.T))\n",
    "\n",
    "    tuples_of_verts = array([delete(verts_pcn, i, axis=0) for i in range(3)])\n",
    "\n",
    "    triangle_edges = fromiter((create_edge(tuples_of_verts[i]) for i in range(3)), dtype=edge)\n",
    "\n",
    "    lowest_scanline = min(triangle_edges['y_min'])\n",
    "    highest_scanline = max(triangle_edges['y_max'])\n",
    "\n",
    "    active_edges = triangle_edges[(triangle_edges['y_min'] == lowest_scanline)]\n",
    "\n",
    "    for y in range(lowest_scanline, highest_scanline):\n",
    "\n",
    "        lower_edges = active_edges[active_edges['y_max'] == y]\n",
    "        if lower_edges.size > 0:\n",
    "            active_edges = delete(active_edges, active_edges == lower_edges)\n",
    "\n",
    "        active_edges = sort(active_edges, order='intersect')\n",
    "\n",
    "        leftmost_intersect = ceil(active_edges[0]['intersect'])\n",
    "        rightmost_intersect = ceil(active_edges[1]['intersect'])\n",
    "\n",
    "        Cl, Cr = interpolate_color(active_edges['y_max'],\n",
    "                                   active_edges['y_min'],\n",
    "                                   y,\n",
    "                                   active_edges['RGB_max'],\n",
    "                                   active_edges['RGB_min'])\n",
    "\n",
    "        for x in range(int(leftmost_intersect), int(rightmost_intersect)):\n",
    "\n",
    "            X[x, y] = interpolate_color(rightmost_intersect,\n",
    "                                        leftmost_intersect,\n",
    "                                        x,\n",
    "                                        Cr,\n",
    "                                        Cl)\n",
    "\n",
    "        active_edges['intersect'] += 1 / active_edges['slope']\n",
    "\n",
    "        upper_edges = triangle_edges[triangle_edges['y_min'] == y + 1]\n",
    "        if upper_edges.size > 0:\n",
    "            active_edges = append(active_edges, upper_edges)\n",
    "\n",
    "    return X"
   ]
  },
  {
   "cell_type": "markdown",
   "metadata": {},
   "source": [
    "## B4. Phong Shading"
   ]
  },
  {
   "cell_type": "code",
   "execution_count": 513,
   "metadata": {},
   "outputs": [],
   "source": [
    "def shade_phong(verts_p, verts_n, verts_c, bcoords, cam_pos, ka, kd, ks, n, light_positions, light_intensities, Ia, X):\n",
    "        \n",
    "    verts_pcn = hstack((verts_p.T, verts_c.T, verts_n.T))\n",
    "\n",
    "    tuples_of_verts = array([delete(verts_pcn, i, axis=0) for i in range(3)])\n",
    "\n",
    "    triangle_edges = fromiter((create_edge(tuples_of_verts[i]) for i in range(3)), dtype=edge)\n",
    "\n",
    "    lowest_scanline = min(triangle_edges['y_min'])\n",
    "    highest_scanline = max(triangle_edges['y_max'])\n",
    "\n",
    "    active_edges = triangle_edges[(triangle_edges['y_min'] == lowest_scanline)]\n",
    "\n",
    "    for y in range(lowest_scanline, highest_scanline):\n",
    "\n",
    "        lower_edges = active_edges[active_edges['y_max'] == y]\n",
    "        if lower_edges.size > 0:\n",
    "            active_edges = delete(active_edges, active_edges == lower_edges)\n",
    "\n",
    "        active_edges = sort(active_edges, order='intersect')\n",
    "\n",
    "        leftmost_intersect = ceil(active_edges[0]['intersect'])\n",
    "        rightmost_intersect = ceil(active_edges[1]['intersect'])\n",
    "\n",
    "        Cl, Cr = interpolate_color(active_edges['y_max'],\n",
    "                                   active_edges['y_min'],\n",
    "                                   y,\n",
    "                                   active_edges['RGB_max'],\n",
    "                                   active_edges['RGB_min'])\n",
    "\n",
    "        Nl, Nr = interpolate_color(active_edges['y_max'],\n",
    "                                   active_edges['y_min'],\n",
    "                                   y,\n",
    "                                   active_edges['N_max'],\n",
    "                                   active_edges['N_min'])\n",
    "\n",
    "\n",
    "        for x in range(int(leftmost_intersect), int(rightmost_intersect)):\n",
    "\n",
    "            color = interpolate_color(rightmost_intersect,\n",
    "                                      leftmost_intersect,\n",
    "                                      x,\n",
    "                                      Cr,\n",
    "                                      Cl).reshape(3, 1)\n",
    "            \n",
    "            normal = interpolate_color(rightmost_intersect,\n",
    "                                      leftmost_intersect,\n",
    "                                      x,\n",
    "                                      Nr,\n",
    "                                      Nl).reshape(3, 1)\n",
    "\n",
    "            I_amb = ambient_light(ka, Ia)\n",
    "\n",
    "            I_diff = diffuse_light(P=bcoords,\n",
    "                                   N=normal,\n",
    "                                   color=color,\n",
    "                                   kd=kd,\n",
    "                                   light_positions=light_positions,\n",
    "                                   light_intensities=light_intensities)\n",
    "\n",
    "            I_spec = specular_light(P=bcoords,\n",
    "                                    N=normal,\n",
    "                                    color=color,\n",
    "                                    cam_pos=cam_pos,\n",
    "                                    ks=ks,\n",
    "                                    n=n,\n",
    "                                    light_positions=light_positions,\n",
    "                                    light_intensities=light_intensities)\n",
    "            color += I_amb + I_diff + I_spec\n",
    "\n",
    "            X[x, y] = color.reshape(-1)\n",
    "\n",
    "        active_edges['intersect'] += 1 / active_edges['slope']\n",
    "\n",
    "        upper_edges = triangle_edges[triangle_edges['y_min'] == y + 1]\n",
    "        if upper_edges.size > 0:\n",
    "            active_edges = append(active_edges, upper_edges)\n",
    "\n",
    "    return X"
   ]
  },
  {
   "cell_type": "code",
   "execution_count": null,
   "metadata": {},
   "outputs": [],
   "source": []
  }
 ],
 "metadata": {
  "kernelspec": {
   "display_name": "Python 3.7.13 ('graphics')",
   "language": "python",
   "name": "python3"
  },
  "language_info": {
   "codemirror_mode": {
    "name": "ipython",
    "version": 3
   },
   "file_extension": ".py",
   "mimetype": "text/x-python",
   "name": "python",
   "nbconvert_exporter": "python",
   "pygments_lexer": "ipython3",
   "version": "3.7.13"
  },
  "orig_nbformat": 4,
  "vscode": {
   "interpreter": {
    "hash": "285d56574a4cb1101505c49ae0d12f0a545336a7955aa9686b64df5b29ca02bb"
   }
  }
 },
 "nbformat": 4,
 "nbformat_minor": 2
}
