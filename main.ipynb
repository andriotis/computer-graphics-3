{
 "cells": [
  {
   "cell_type": "markdown",
   "metadata": {},
   "source": [
    "# Πειραματισμοί"
   ]
  },
  {
   "cell_type": "code",
   "execution_count": 147,
   "metadata": {},
   "outputs": [
    {
     "data": {
      "text/plain": [
       "dict_keys(['verts', 'vertex_colors', 'face_indices', 'depth', 'cam_eye', 'cam_up', 'cam_lookat', 'ka', 'kd', 'ks', 'n', 'light_positions', 'light_intensities', 'Ia', 'M', 'N', 'W', 'H', 'bg_color'])"
      ]
     },
     "execution_count": 147,
     "metadata": {},
     "output_type": "execute_result"
    }
   ],
   "source": [
    "from numpy import *\n",
    "from numpy.linalg import *\n",
    "from filling import *\n",
    "from transforms_projections import *\n",
    "\n",
    "data = load('h3.npy', allow_pickle=True).tolist()\n",
    "for (key, value) in data.items():\n",
    "    exec(key + ' = value')\n",
    "data.keys()"
   ]
  },
  {
   "cell_type": "markdown",
   "metadata": {},
   "source": [
    "# Φωτισμός και Υλικό Επιφάνειας"
   ]
  },
  {
   "cell_type": "markdown",
   "metadata": {},
   "source": [
    "## A1. Ambient Light"
   ]
  },
  {
   "cell_type": "code",
   "execution_count": 8,
   "metadata": {},
   "outputs": [],
   "source": [
    "def ambient_light(ka, Ia):\n",
    "\n",
    "    I = ka * Ia\n",
    "\n",
    "    return I"
   ]
  },
  {
   "cell_type": "markdown",
   "metadata": {},
   "source": [
    "## A2. Diffuse Light"
   ]
  },
  {
   "cell_type": "code",
   "execution_count": 143,
   "metadata": {},
   "outputs": [],
   "source": [
    "def diffuse_light(P, N, color, kd, light_positions, light_intensities):\n",
    "\n",
    "    I = zeros((3,))\n",
    "\n",
    "    L = (light_positions - P) / norm(light_positions - P, axis=0)\n",
    "    \n",
    "    for i in range(light_positions.shape[1]):\n",
    "        if N.T @ L[:, i] > 0:\n",
    "            I += kd * light_intensities[:, i] * (N.T @ L[:, i])\n",
    "    \n",
    "    return I.reshape(-1, 1) * color\n",
    "    "
   ]
  },
  {
   "cell_type": "code",
   "execution_count": 144,
   "metadata": {},
   "outputs": [],
   "source": [
    "def specular_light(P, N, color, cam_pos, ks, n, light_positions, light_intensities):\n",
    "\n",
    "    I = zeros((3,))\n",
    "\n",
    "    L = (light_positions - P) / norm(light_positions - P, axis=0)\n",
    "    R = (2 * N.T @ L) * N - L\n",
    "    V = (cam_pos - P) / norm(cam_pos - P, axis=0)\n",
    "    \n",
    "    for i in range(light_positions.shape[1]):\n",
    "        if V.T @ R[:, i] > 0 and N.T @ L[:, i] > 0:\n",
    "            I += ks * light_intensities[:, i] * (V.T @ R[:, i]) ** n\n",
    "    \n",
    "    return I.reshape(-1, 1) * color"
   ]
  },
  {
   "cell_type": "markdown",
   "metadata": {},
   "source": [
    "# B. Shading"
   ]
  },
  {
   "cell_type": "markdown",
   "metadata": {},
   "source": [
    "## Β.1 Υπολογισμός κανονικών διανυσμάτων επιφάνειας"
   ]
  },
  {
   "cell_type": "code",
   "execution_count": 145,
   "metadata": {},
   "outputs": [],
   "source": [
    "def calculate_normals(vertices, face_indices):\n",
    "\n",
    "    normals = empty(shape=vertices.shape)\n",
    "\n",
    "    surface_normals = cross(vertices[:, face_indices[1]] - vertices[:, face_indices[0]],\n",
    "                            vertices[:, face_indices[2]] - vertices[:, face_indices[0]],\n",
    "                            axis=0)\n",
    "\n",
    "    surface_normals /= norm(surface_normals, axis=0)\n",
    "\n",
    "    for i in range(vertices.shape[1]):\n",
    "        S_Nk = sum(surface_normals[:, where(\n",
    "            face_indices == i)[1]], axis=1).reshape(-1, 1)\n",
    "        S_Nk /= norm(S_Nk, axis=0)\n",
    "        normals[:, i] = S_Nk.reshape(-1)\n",
    "    \n",
    "    return normals"
   ]
  },
  {
   "cell_type": "markdown",
   "metadata": {},
   "source": [
    "## Β2. Συνάρτηση φωτογράφισης"
   ]
  },
  {
   "cell_type": "code",
   "execution_count": null,
   "metadata": {},
   "outputs": [],
   "source": [
    "def render_object(shader, focal, eye, lookat, up, bg_color, M, N, H, W, verts, vert_colors, face_indices, ka, kd, ks, n, light_position, light_intensities, Ia):\n",
    "\n",
    "    normals = calculate_normals(verts, face_indices)\n",
    "    \n",
    "    verts2d, depth = project_cam_lookat(focal, eye, lookat, up, verts)\n",
    "\n",
    "    return 1"
   ]
  },
  {
   "cell_type": "markdown",
   "metadata": {},
   "source": [
    "## B3. Gouraud Shading"
   ]
  },
  {
   "cell_type": "code",
   "execution_count": null,
   "metadata": {},
   "outputs": [],
   "source": [
    "def shade_gouraud(verts_p, verts_n, verts_c, bcoords, cam_pos, ka, kd, ks, n, light_positions, light_intensities, Ia, X):\n",
    "    pass"
   ]
  },
  {
   "cell_type": "markdown",
   "metadata": {},
   "source": [
    "## B4. Phong Shading"
   ]
  },
  {
   "cell_type": "code",
   "execution_count": null,
   "metadata": {},
   "outputs": [],
   "source": [
    "def shade_phong(verts_p, verts_n, verts_c, bcoords, cam_pos, ka, kd, ks, n, light_positions, light_intensities, Ia, X):\n",
    "    pass"
   ]
  },
  {
   "cell_type": "markdown",
   "metadata": {},
   "source": []
  }
 ],
 "metadata": {
  "kernelspec": {
   "display_name": "Python 3.7.13 ('graphics')",
   "language": "python",
   "name": "python3"
  },
  "language_info": {
   "codemirror_mode": {
    "name": "ipython",
    "version": 3
   },
   "file_extension": ".py",
   "mimetype": "text/x-python",
   "name": "python",
   "nbconvert_exporter": "python",
   "pygments_lexer": "ipython3",
   "version": "3.7.13"
  },
  "orig_nbformat": 4,
  "vscode": {
   "interpreter": {
    "hash": "285d56574a4cb1101505c49ae0d12f0a545336a7955aa9686b64df5b29ca02bb"
   }
  }
 },
 "nbformat": 4,
 "nbformat_minor": 2
}
