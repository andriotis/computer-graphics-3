{
 "cells": [
  {
   "cell_type": "markdown",
   "metadata": {},
   "source": [
    "# Πειραματισμοί"
   ]
  },
  {
   "cell_type": "code",
   "execution_count": 85,
   "metadata": {},
   "outputs": [
    {
     "data": {
      "text/plain": [
       "dict_keys(['verts', 'vertex_colors', 'face_indices', 'depth', 'cam_eye', 'cam_up', 'cam_lookat', 'ka', 'kd', 'ks', 'n', 'light_positions', 'light_intensities', 'Ia', 'M', 'N', 'W', 'H', 'bg_color'])"
      ]
     },
     "execution_count": 85,
     "metadata": {},
     "output_type": "execute_result"
    }
   ],
   "source": [
    "from numpy import *\n",
    "from numpy.linalg import *\n",
    "from filling import *\n",
    "from transforms_projections import *\n",
    "\n",
    "data = load('h3.npy', allow_pickle=True).tolist()\n",
    "for (key, value) in data.items():\n",
    "    exec(key + ' = value')\n",
    "data.keys()"
   ]
  },
  {
   "cell_type": "markdown",
   "metadata": {},
   "source": [
    "# Φωτισμός και Υλικό Επιφάνειας"
   ]
  },
  {
   "cell_type": "markdown",
   "metadata": {},
   "source": [
    "## A1. Ambient Light"
   ]
  },
  {
   "cell_type": "code",
   "execution_count": 8,
   "metadata": {},
   "outputs": [],
   "source": [
    "def ambient_light(ka, Ia):\n",
    "    I = ka * Ia\n",
    "    return I"
   ]
  },
  {
   "cell_type": "markdown",
   "metadata": {},
   "source": [
    "## A2. Diffuse Light"
   ]
  },
  {
   "cell_type": "code",
   "execution_count": 135,
   "metadata": {},
   "outputs": [],
   "source": [
    "def diffuse_light(P, N, color, kd, light_positions, light_intensities):\n",
    "    L = (light_positions - P) / norm(light_positions - P, axis=0)\n",
    "    I = sum(kd * light_intensities * maximum(0.0, N.T @ L), axis=1).reshape(-1, 1)\n",
    "    return I * color"
   ]
  },
  {
   "cell_type": "markdown",
   "metadata": {},
   "source": [
    "## Specular Light"
   ]
  },
  {
   "cell_type": "code",
   "execution_count": 136,
   "metadata": {},
   "outputs": [],
   "source": [
    "def specular_light(P, N, color, cam_pos, ks, n, light_positions, light_intensities):\n",
    "    L = (light_positions - P) / norm(light_positions - P, axis=0)\n",
    "    R = maximum(0.0, 2 * N.T @ L) * N - L\n",
    "    V = (cam_pos - P) / norm(cam_pos - P, axis=0)\n",
    "    I = sum(ks * light_intensities * (maximum(0.0, V.T @ R) ** n), axis=1).reshape(-1, 1)\n",
    "    return I * color"
   ]
  },
  {
   "cell_type": "code",
   "execution_count": 141,
   "metadata": {},
   "outputs": [],
   "source": [
    "vertices = verts.T.copy()\n",
    "face_indices = face_indices.T.copy()"
   ]
  },
  {
   "cell_type": "code",
   "execution_count": null,
   "metadata": {},
   "outputs": [],
   "source": [
    "surface_normals = cross(vertices[:, face_indices[1]] - vertices[:, face_indices[0]],\n",
    "                        vertices[:, face_indices[2]] - vertices[:, face_indices[0]],\n",
    "                        axis=0)\n",
    "\n",
    "surface_normals /= norm(surface_normals, axis=0)\n",
    "\n",
    "for vertex in range(vertices.shape[1]):\n",
    "    N_k = sum(surface_normals[:, where(face_indices == 0)[1]], axis=1).reshape(-1 ,1)\n",
    "    N_k /= norm(N_k, axis=0)\n",
    "    "
   ]
  },
  {
   "cell_type": "markdown",
   "metadata": {},
   "source": [
    "# B. Shading"
   ]
  },
  {
   "cell_type": "markdown",
   "metadata": {},
   "source": [
    "## Β.1 Υπολογισμός κανονικών διανυσμάτων επιφάνειας"
   ]
  },
  {
   "cell_type": "code",
   "execution_count": 6,
   "metadata": {},
   "outputs": [],
   "source": [
    "def calculate_normals(vertices, face_indices):\n",
    "    surface_normals = cross(vertices[:, face_indices[1]] - vertices[:, face_indices[0]],\n",
    "                            vertices[:, face_indices[2]] - vertices[:, face_indices[0]],\n",
    "                            axis=0)\n",
    "\n",
    "    surface_normals /= norm(surface_normals, axis=0)\n"
   ]
  },
  {
   "cell_type": "markdown",
   "metadata": {},
   "source": [
    "## Β2. Συνάρτηση φωτογράφισης"
   ]
  },
  {
   "cell_type": "code",
   "execution_count": null,
   "metadata": {},
   "outputs": [],
   "source": [
    "def render_object(shader,\n",
    "                  focal, eye, lookat, up, bg_color,\n",
    "                  M, N, H, W,\n",
    "                  verts, vert_colors, face_indices,\n",
    "                  ka, kd, ks, n, light_position, light_intensities, Ia):\n",
    "    # shader : string, 'gouraud' or 'phong'\n",
    "    # focal : scalar, the f in the previous assignment\n",
    "    # eye : 3x1, the camera's coordinates\n",
    "    # lookat : 3x1, where the camera is looking coordinates\n",
    "    # up : 3x1, camera's pose\n",
    "    # bg_color : 3x1, RGB of background\n",
    "    # M, N : scalar, image's resolution\n",
    "    # H, W : camera's lens\n",
    "    # verts : 3xN_u : all corner's coordinates\n",
    "    # verts_color: 3xN_u : colors of all corners\n",
    "    # \n",
    "    pass"
   ]
  },
  {
   "cell_type": "markdown",
   "metadata": {},
   "source": [
    "## B3. Gouraud Shading"
   ]
  },
  {
   "cell_type": "code",
   "execution_count": null,
   "metadata": {},
   "outputs": [],
   "source": [
    "def shade_gouraud(verts_p, verts_n, verts_c, bcoords, cam_pos, ka, kd, ks, n, light_positions, light_intensities, Ia, X):\n",
    "    # verts_p : 2x3, 2D coordinates of triangle's corners after projection\n",
    "    # verts_n : 3x3, normal vectors of triangle's corners\n",
    "    # verts_c : 3x3, color of triangle's corners\n",
    "\n",
    "    # bcoords : 3x1, center of gravity\n",
    "    # cam_pos : 3x1, coordinates of camera\n",
    "    # ka, kd, ks, n : scalars, illumination constants\n",
    "    # light_positions : 3x(# of sources), coordinates of light sources\n",
    "    # light_intensities : 3x(# of sources), intensities of these light sources\n",
    "    # Ia : 3x1, ambient light constant\n",
    "    # X : MxNx3, image before\n",
    "    # Y : MxNx3, image after\n",
    "    pass"
   ]
  },
  {
   "cell_type": "markdown",
   "metadata": {},
   "source": [
    "## B4. Phong Shading"
   ]
  },
  {
   "cell_type": "code",
   "execution_count": null,
   "metadata": {},
   "outputs": [],
   "source": [
    "def shade_phong(verts_p, verts_n, verts_c, bcoords, cam_pos, ka, kd, ks, n, light_positions, light_intensities, Ia, X):\n",
    "    # verts_p : 2x3, 2D coordinates of triangle's corners after projection\n",
    "    # verts_n : 3x3, normal vectors of triangle's corners\n",
    "    # verts_c : 3x3, color of triangle's corners\n",
    "\n",
    "    # bcoords : 3x1, center of gravity\n",
    "    # cam_pos : 3x1, coordinates of camera\n",
    "    # ka, kd, ks, n : scalars, illumination constants\n",
    "    # light_positions : 3x(# of sources), coordinates of light sources\n",
    "    # light_intensities : 3x(# of sources), intensities of these light sources\n",
    "    # Ia : 3x1, ambient light constant\n",
    "    # X : MxNx3, image before\n",
    "    # Y : MxNx3, image after\n",
    "    pass"
   ]
  },
  {
   "cell_type": "markdown",
   "metadata": {},
   "source": []
  }
 ],
 "metadata": {
  "kernelspec": {
   "display_name": "Python 3.7.13 ('graphics')",
   "language": "python",
   "name": "python3"
  },
  "language_info": {
   "codemirror_mode": {
    "name": "ipython",
    "version": 3
   },
   "file_extension": ".py",
   "mimetype": "text/x-python",
   "name": "python",
   "nbconvert_exporter": "python",
   "pygments_lexer": "ipython3",
   "version": "3.7.13"
  },
  "orig_nbformat": 4,
  "vscode": {
   "interpreter": {
    "hash": "285d56574a4cb1101505c49ae0d12f0a545336a7955aa9686b64df5b29ca02bb"
   }
  }
 },
 "nbformat": 4,
 "nbformat_minor": 2
}
